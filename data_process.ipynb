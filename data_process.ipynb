{
 "cells": [
  {
   "cell_type": "code",
   "execution_count": 2,
   "metadata": {},
   "outputs": [],
   "source": [
    "import evlicious\n",
    "from pathlib import Path\n",
    "import tqdm\n",
    "import h5py\n",
    "import numpy as np\n",
    "import os\n",
    "import yaml\n",
    "\n",
    "\n",
    "accuracy = 1e9\n",
    "timestamps = \"/data/storage/pellerito/MoonLanding/Malapert_crater/Cam3/timestamps_.txt\"\n",
    "image_files = sorted(Path(\"/data/storage/pellerito/MoonLanding/Malapert_crater/Cam3/imgs\").glob(\"*.ppm\"))\n",
    "fps = 5"
   ]
  },
  {
   "cell_type": "code",
   "execution_count": 10,
   "metadata": {},
   "outputs": [],
   "source": [
    "\n",
    "with open(timestamps, 'w') as f:\n",
    "    for ind, file in enumerate(image_files):\n",
    "        timestamp=(1/fps)*ind*accuracy\n",
    "        string = f\"{timestamp}\"  if ind == 0 else f\"\\n{timestamp}\"\n",
    "        f.writelines(string)\n",
    "f.close()"
   ]
  },
  {
   "attachments": {},
   "cell_type": "markdown",
   "metadata": {},
   "source": [
    "# Rewriting poses no marks before"
   ]
  },
  {
   "cell_type": "code",
   "execution_count": 27,
   "metadata": {},
   "outputs": [],
   "source": [
    "fps = 5\n",
    "accuracy = 1e9\n",
    "pose_left = \"/data/storage/pellerito/MoonLanding/Malapert_crater/Cam3/pose_left.txt\"\n",
    "out = \"/data/storage/pellerito/MoonLanding/Malapert_crater/Cam3/pose_left_.txt\"\n",
    "image_files = sorted(Path(\"/data/storage/pellerito/MoonLanding/Malapert_crater/Cam3/imgs\").glob(\"*.ppm\"))"
   ]
  },
  {
   "cell_type": "code",
   "execution_count": 28,
   "metadata": {},
   "outputs": [],
   "source": [
    "with open(pose_left, 'r+') as f:\n",
    "    with open(out, 'w') as fi:\n",
    "        for ind, _ in enumerate(image_files):\n",
    "            pose = f.readline()\n",
    "            fi.writelines(pose[11:])\n",
    "\n",
    "        pose = f.readline()\n",
    "        fi.writelines(pose[11:])\n",
    "        \n",
    "        fi.close()\n",
    "    f.close()"
   ]
  },
  {
   "cell_type": "code",
   "execution_count": 3,
   "metadata": {},
   "outputs": [],
   "source": [
    "fps = 5\n",
    "accuracy = 1e9\n",
    "pose_left = \"/data/storage/pellerito/MoonLanding/Malapert_crater/Cam1/pose_left.txt\"\n",
    "out = \"/data/storage/pellerito/MoonLanding/Malapert_crater/Cam1/pose_left_.txt\"\n",
    "image_files = sorted(Path(\"/data/storage/pellerito/MoonLanding/Malapert_crater/Cam1/imgs\").glob(\"*.ppm\"))"
   ]
  },
  {
   "cell_type": "code",
   "execution_count": 4,
   "metadata": {},
   "outputs": [],
   "source": [
    "with open(pose_left, 'r+') as f:\n",
    "    with open(out, 'w') as fi:\n",
    "        for ind, _ in enumerate(image_files):\n",
    "            pose = f.readline()\n",
    "            fi.writelines(pose)\n",
    "        pose = f.readline()\n",
    "        fi.writelines(pose)\n",
    "        \n",
    "        fi.close()\n",
    "    f.close()"
   ]
  }
 ],
 "metadata": {
  "kernelspec": {
   "display_name": "evlicious",
   "language": "python",
   "name": "python3"
  },
  "language_info": {
   "codemirror_mode": {
    "name": "ipython",
    "version": 3
   },
   "file_extension": ".py",
   "mimetype": "text/x-python",
   "name": "python",
   "nbconvert_exporter": "python",
   "pygments_lexer": "ipython3",
   "version": "3.7.12"
  },
  "orig_nbformat": 4
 },
 "nbformat": 4,
 "nbformat_minor": 2
}
